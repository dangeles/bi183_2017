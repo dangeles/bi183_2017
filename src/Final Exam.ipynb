{
 "cells": [
  {
   "cell_type": "markdown",
   "metadata": {
    "toc": "true"
   },
   "source": [
    "# Table of Contents\n",
    " <p><div class=\"lev1 toc-item\"><a href=\"#Write-a-function-to-construct-the-conditional-probability-matrix-of-input-data-points\" data-toc-modified-id=\"Write-a-function-to-construct-the-conditional-probability-matrix-of-input-data-points-1\"><span class=\"toc-item-num\">1&nbsp;&nbsp;</span>Write a function to construct the conditional probability matrix of input data points</a></div>"
   ]
  },
  {
   "cell_type": "code",
   "execution_count": 1,
   "metadata": {
    "collapsed": true
   },
   "outputs": [],
   "source": [
    "import pandas as pd\n",
    "import numpy as np\n",
    "import scipy\n",
    "\n",
    "# Graphics\n",
    "import matplotlib as mpl\n",
    "import matplotlib.pyplot as plt\n",
    "import seaborn as sns\n",
    "from matplotlib import rc\n",
    "\n",
    "rc('text', usetex=True)\n",
    "rc('text.latex', preamble=r'\\usepackage{cmbright}')\n",
    "rc('font', **{'family': 'sans-serif', 'sans-serif': ['Helvetica']})\n",
    "\n",
    "# Magic function to make matplotlib inline;\n",
    "%matplotlib inline\n",
    "\n",
    "# This enables SVG graphics inline. \n",
    "# There is a bug, so uncomment if it works.\n",
    "%config InlineBackend.figure_formats = {'png', 'retina'}\n",
    "\n",
    "# JB's favorite Seaborn settings for notebooks\n",
    "rc = {'lines.linewidth': 2, \n",
    "      'axes.labelsize': 18, \n",
    "      'axes.titlesize': 18, \n",
    "      'axes.facecolor': 'DFDFE5'}\n",
    "sns.set_context('notebook', rc=rc)\n",
    "sns.set_style(\"dark\")\n",
    "\n",
    "mpl.rcParams['xtick.labelsize'] = 16 \n",
    "mpl.rcParams['ytick.labelsize'] = 16 \n",
    "mpl.rcParams['legend.fontsize'] = 14\n"
   ]
  },
  {
   "cell_type": "markdown",
   "metadata": {},
   "source": [
    "# Write a function to construct the conditional probability matrix of input data points"
   ]
  },
  {
   "cell_type": "code",
   "execution_count": null,
   "metadata": {
    "collapsed": true
   },
   "outputs": [],
   "source": [
    "class TSNE():\n",
    "    \n",
    "    def _init_(self, X):\n",
    "        self.X = X\n",
    "    \n",
    "    def sigma(self, S):\n",
    "        if len(S) != "
   ]
  },
  {
   "cell_type": "code",
   "execution_count": 2,
   "metadata": {
    "collapsed": true
   },
   "outputs": [],
   "source": [
    "def d(xi, xj, sigma_i):\n",
    "    \"\"\"The exponent for the probability function\"\"\"\n",
    "    return -np.sum((xi - xj)**2)/(2*sigma_i**2)\n",
    "\n",
    "def Z_i(i, X, S):\n",
    "    \"\"\"\n",
    "    Computes the normalization factor for p_ij\n",
    "    \"\"\"\n",
    "    # normalization factor:\n",
    "    exp_ij = 0\n",
    "    d_ij = 0\n",
    "    sigma_i = S[i]\n",
    "    x_i = X[:, i]\n",
    "    for j in np.arange(X.shape[1]):\n",
    "        if i == j:\n",
    "            continue\n",
    "        \n",
    "        x_j = X[:, j]\n",
    "        d_ij = d(x_i, x_j, sigma_i)\n",
    "        exp_ij += np.exp(d_ij)\n",
    "            \n",
    "    return exp_ij\n",
    "\n",
    "def non_norm_p_j_given_i(i, j, X, S):\n",
    "    \"\"\"Non-normalized p_i|j\"\"\"\n",
    "    sigma_i = S[i]\n",
    "    x_i = X[:, i]\n",
    "    x_j = X[:, j]\n",
    "    d_ij = d(x_i, x_j, sigma_i)\n",
    "    exp_ij = np.exp(d_ij)\n",
    "    return exp_ij\n",
    "\n",
    "def norm_p_j_given_i(i, j, X, S):\n",
    "    \"\"\"Normalized p_i|j\"\"\"\n",
    "    if i == j:\n",
    "        return 0\n",
    "    else:\n",
    "        return non_norm_p_j_given_i(i, j, X, S)/Z_i(i, X, S)"
   ]
  },
  {
   "cell_type": "code",
   "execution_count": 3,
   "metadata": {
    "collapsed": true
   },
   "outputs": [],
   "source": [
    "x1 = np.linspace(0, 10, 100) + np.random.normal(0, 2, 100)\n",
    "x2 = np.linspace(0, 10, 100) + np.random.normal(0, 2, 100)\n",
    "x3 = np.random.normal(5, 2, 100)\n",
    "x4 = np.random.normal(5, 3, 100)\n",
    "\n",
    "X = np.vstack((x1, x2, x3, x4)).T\n",
    "S = np.array([2, 2, 2, 2])"
   ]
  },
  {
   "cell_type": "code",
   "execution_count": 4,
   "metadata": {
    "collapsed": true
   },
   "outputs": [],
   "source": [
    "P = np.zeros((X.shape[1], X.shape[1]))"
   ]
  },
  {
   "cell_type": "code",
   "execution_count": 5,
   "metadata": {
    "collapsed": true
   },
   "outputs": [],
   "source": [
    "for i in range(X.shape[1]):\n",
    "    for j in range(X.shape[1]):\n",
    "        P[i, j] = norm_p_j_given_i(i, j, X, S)"
   ]
  },
  {
   "cell_type": "code",
   "execution_count": 6,
   "metadata": {},
   "outputs": [
    {
     "data": {
      "text/plain": [
       "<matplotlib.axes._subplots.AxesSubplot at 0x10c78ecf8>"
      ]
     },
     "execution_count": 6,
     "metadata": {},
     "output_type": "execute_result"
    },
    {
     "data": {
      "image/png": "[encoded data removed]",
      "text/plain": [
       "<matplotlib.figure.Figure at 0x1079fa898>"
      ]
     },
     "metadata": {
      "image/png": {
       "height": 258,
       "width": 358
      }
     },
     "output_type": "display_data"
    }
   ],
   "source": [
    "sns.heatmap(P)"
   ]
  },
  {
   "cell_type": "code",
   "execution_count": 130,
   "metadata": {
    "collapsed": true
   },
   "outputs": [],
   "source": [
    "def binary_search(T, array):\n",
    "    L = 0\n",
    "    R = len(array) - 1\n",
    "    \n",
    "    def search(L, R):\n",
    "        if L > R:\n",
    "            return L\n",
    "\n",
    "        m = np.int(np.floor((L+R)/2))\n",
    "        close = np.isclose(array[m], T, atol=10**-3)\n",
    "\n",
    "        if close:\n",
    "            return m\n",
    "\n",
    "        if array[m] < T:\n",
    "            L = m + 1\n",
    "        elif array[m] > T:\n",
    "            R = m - 1\n",
    "\n",
    "        if L > R:\n",
    "            return L\n",
    "        \n",
    "        if m == len(array) - 1:\n",
    "            return m\n",
    "        if m == 0:\n",
    "            return 0\n",
    "    \n",
    "        return search(L, R)\n",
    "    \n",
    "    m = search(L, R)\n",
    "    return m"
   ]
  },
  {
   "cell_type": "code",
   "execution_count": 111,
   "metadata": {
    "collapsed": true
   },
   "outputs": [],
   "source": [
    "def shannon(i, X, S):\n",
    "    \"\"\"Shannon Entropy of p_j|i\"\"\"\n",
    "    H = 0\n",
    "    Z = Z_i(i, X, S)\n",
    "\n",
    "    for j in range(X.shape[1]):\n",
    "        # calculate p_ij\n",
    "        p_ji = norm_p_j_given_i(i, j, X, S)\n",
    "        # smart approximation to log_pij to avoid log2(0)\n",
    "        log_pji = d(X[:,i], X[:, j], S[i]) - np.log(Z)\n",
    "        log_pji = log_pji/np.log(2)\n",
    "        # shannon entropy\n",
    "        H += -p_ji*log_pji\n",
    "\n",
    "    return H"
   ]
  },
  {
   "cell_type": "code",
   "execution_count": 127,
   "metadata": {
    "collapsed": true
   },
   "outputs": [],
   "source": [
    "def make_sigma_array(s_min, s_max, n, S, i):\n",
    "    s = np.logspace(np.log10(s_min), np.log10(s_max), n)\n",
    "    H_array = np.empty(n)\n",
    "    \n",
    "    for k, sigma_i in enumerate(s):\n",
    "        S[i] = sigma_i\n",
    "        H_array[k] = shannon(i, X, S)\n",
    "    \n",
    "    return s, H_array\n",
    "\n",
    "def set_sigma(perplexity, X, S_in):\n",
    "    S = S_in\n",
    "    if perplexity > X.shape[1]:\n",
    "        print('Perplexity is above allowable limits. Resetting to maximum possible value.')\n",
    "        perplexity = X.shape[1]-1\n",
    "\n",
    "    def search_all(S):\n",
    "        for i in range(X.shape[1]):\n",
    "            s, H_array = make_sigma_array(30, 100, 1000, S_in, i)\n",
    "            index = binary_search(np.log2(perplexity), H_array)\n",
    "            S[i] = s[index]\n",
    "        return S\n",
    "    \n",
    "    changing = True\n",
    "    S = search_all(S_in)\n",
    "    return S"
   ]
  },
  {
   "cell_type": "code",
   "execution_count": 113,
   "metadata": {
    "collapsed": true
   },
   "outputs": [],
   "source": [
    "s, H_array = make_sigma_array(30, 100, 1000, S, 1)"
   ]
  },
  {
   "cell_type": "code",
   "execution_count": 114,
   "metadata": {},
   "outputs": [
    {
     "data": {
      "text/plain": [
       "[<matplotlib.lines.Line2D at 0x10cc29f98>]"
      ]
     },
     "execution_count": 114,
     "metadata": {},
     "output_type": "execute_result"
    },
    {
     "data": {
      "image/png": "[encoded data removed]",
      "text/plain": [
       "<matplotlib.figure.Figure at 0x1060f2748>"
      ]
     },
     "metadata": {
      "image/png": {
       "height": 252,
       "width": 385
      }
     },
     "output_type": "display_data"
    }
   ],
   "source": [
    "plt.plot(s, H_array, 'o', ms=2)"
   ]
  },
  {
   "cell_type": "code",
   "execution_count": 131,
   "metadata": {},
   "outputs": [
    {
     "name": "stdout",
     "output_type": "stream",
     "text": [
      "Perplexity is above allowable limits. Resetting to maximum possible value.\n"
     ]
    }
   ],
   "source": [
    "S = set_sigma(10, X, S_in=S)"
   ]
  },
  {
   "cell_type": "code",
   "execution_count": 132,
   "metadata": {},
   "outputs": [
    {
     "name": "stdout",
     "output_type": "stream",
     "text": [
      "[96 86 54 73]\n"
     ]
    }
   ],
   "source": [
    "print(S)"
   ]
  },
  {
   "cell_type": "code",
   "execution_count": 107,
   "metadata": {
    "collapsed": true
   },
   "outputs": [],
   "source": [
    "def grad_i(i, X, Y, S):\n",
    "    grad = 0\n",
    "    for j in np.arange(X.shape[1]):\n",
    "        p_ji = norm_p_j_given_i(i, j, X, S)\n",
    "        p_ij = norm_p_j_given_i(j, i, X, S)\n",
    "        q_ji = norm_p_j_given_i(i, j, Y, Sy)\n",
    "        q_ij = norm_p_j_given_i(j, i, Y, Sy)\n",
    "        \n",
    "        grad += (p_ji + p_ij - q_ji - q_ij)*(Y[:, i] - Y[:, j])\n",
    "    \n",
    "    return 2*grad\n",
    "\n",
    "def grad_descent(n, a, X, Y, S):\n",
    "    \n",
    "    for i in np.arange(X.shape[1]):\n",
    "        y_i_new = Y[:, i] + n*grad_i(i, X, Y, S) + a*(Y[:, i])"
   ]
  },
  {
   "cell_type": "code",
   "execution_count": null,
   "metadata": {
    "collapsed": true
   },
   "outputs": [],
   "source": []
  }
 ],
 "metadata": {
  "kernelspec": {
   "display_name": "Python [default]",
   "language": "python",
   "name": "python3"
  },
  "language_info": {
   "codemirror_mode": {
    "name": "ipython",
    "version": 3
   },
   "file_extension": ".py",
   "mimetype": "text/x-python",
   "name": "python",
   "nbconvert_exporter": "python",
   "pygments_lexer": "ipython3",
   "version": "3.5.3"
  },
  "nav_menu": {},
  "toc": {
   "navigate_menu": true,
   "number_sections": true,
   "sideBar": true,
   "threshold": 6,
   "toc_cell": true,
   "toc_section_display": "block",
   "toc_window_display": true
  }
 },
 "nbformat": 4,
 "nbformat_minor": 2
}
