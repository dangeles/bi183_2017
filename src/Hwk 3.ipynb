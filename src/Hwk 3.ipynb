{
 "cells": [
  {
   "cell_type": "markdown",
   "metadata": {
    "toc": "true"
   },
   "source": [
    "# Table of Contents\n",
    " <p><div class=\"lev1 toc-item\"><a href=\"#Burrows-Wheeler-Transformation-problem\" data-toc-modified-id=\"Burrows-Wheeler-Transformation-problem-1\"><span class=\"toc-item-num\">1&nbsp;&nbsp;</span>Burrows-Wheeler Transformation problem</a></div><div class=\"lev2 toc-item\"><a href=\"#Check-the-functions-work-as-implemented:\" data-toc-modified-id=\"Check-the-functions-work-as-implemented:-1.1\"><span class=\"toc-item-num\">1.1&nbsp;&nbsp;</span>Check the functions work as implemented:</a></div><div class=\"lev2 toc-item\"><a href=\"#Invert-the-BT-transformed-string-given-in-the-homework:\" data-toc-modified-id=\"Invert-the-BT-transformed-string-given-in-the-homework:-1.2\"><span class=\"toc-item-num\">1.2&nbsp;&nbsp;</span>Invert the BT-transformed string given in the homework:</a></div><div class=\"lev1 toc-item\"><a href=\"#Counting-Human-Genome-Stuff\" data-toc-modified-id=\"Counting-Human-Genome-Stuff-2\"><span class=\"toc-item-num\">2&nbsp;&nbsp;</span>Counting Human Genome Stuff</a></div>"
   ]
  },
  {
   "cell_type": "code",
   "execution_count": 1,
   "metadata": {
    "collapsed": true
   },
   "outputs": [],
   "source": [
    "import pandas as pd\n",
    "import numpy as np\n",
    "from Bio import SeqIO\n",
    "\n",
    "# Graphics\n",
    "import matplotlib as mpl\n",
    "import matplotlib.pyplot as plt\n",
    "import seaborn as sns\n",
    "from matplotlib import rc\n",
    "\n",
    "rc('text', usetex=True)\n",
    "rc('text.latex', preamble=r'\\usepackage{cmbright}')\n",
    "rc('font', **{'family': 'sans-serif', 'sans-serif': ['Helvetica']})\n",
    "\n",
    "# Magic function to make matplotlib inline;\n",
    "%matplotlib inline\n",
    "\n",
    "# This enables SVG graphics inline. \n",
    "# There is a bug, so uncomment if it works.\n",
    "%config InlineBackend.figure_formats = {'png', 'retina'}\n",
    "\n",
    "# JB's favorite Seaborn settings for notebooks\n",
    "rc = {'lines.linewidth': 2, \n",
    "      'axes.labelsize': 18, \n",
    "      'axes.titlesize': 18, \n",
    "      'axes.facecolor': 'DFDFE5'}\n",
    "sns.set_context('notebook', rc=rc)\n",
    "sns.set_style(\"dark\")\n",
    "\n",
    "mpl.rcParams['xtick.labelsize'] = 16 \n",
    "mpl.rcParams['ytick.labelsize'] = 16 \n",
    "mpl.rcParams['legend.fontsize'] = 14"
   ]
  },
  {
   "cell_type": "markdown",
   "metadata": {},
   "source": [
    "# Burrows-Wheeler Transformation problem"
   ]
  },
  {
   "cell_type": "code",
   "execution_count": 2,
   "metadata": {
    "collapsed": true
   },
   "outputs": [],
   "source": [
    "def BT(S):\n",
    "    \"\"\"Given a string, finds its Burrows-Wheeler transform\"\"\"\n",
    "    \n",
    "    def circular_permute(S):\n",
    "        \"\"\"Returns an array with all the circular permutations of S\"\"\"\n",
    "        perms = [None]*len(S)\n",
    "        for i in range(len(S)):\n",
    "            pre = S[:i]\n",
    "            end = S[i:]\n",
    "            row = end + pre\n",
    "            perms[i] = row\n",
    "        return perms\n",
    "    \n",
    "    perms = circular_permute(S)\n",
    "    perms.sort()\n",
    "    \n",
    "    S_BTed = ''\n",
    "    for p in perms:\n",
    "        S_BTed += p[len(S)-1]\n",
    "    \n",
    "    return S_BTed"
   ]
  },
  {
   "cell_type": "code",
   "execution_count": 3,
   "metadata": {
    "collapsed": true
   },
   "outputs": [],
   "source": [
    "def inverse_BT(S):\n",
    "    \"\"\"Given a Burrows-Wheeler transformed string, finds the original string.\"\"\"\n",
    "    for i in range(len(S)):\n",
    "        if i == 0:\n",
    "            cols = sorted(S)\n",
    "        else:\n",
    "            for i in range(len(S)):\n",
    "                cols[i] = S[i] + cols[i]\n",
    "            cols = sorted(cols)\n",
    "    for word in cols:\n",
    "        if word[-1] == '$':\n",
    "            return word"
   ]
  },
  {
   "cell_type": "markdown",
   "metadata": {},
   "source": [
    "## Check the functions work as implemented:"
   ]
  },
  {
   "cell_type": "code",
   "execution_count": 4,
   "metadata": {},
   "outputs": [
    {
     "data": {
      "text/plain": [
       "'BNNN^AAA|A'"
      ]
     },
     "execution_count": 4,
     "metadata": {},
     "output_type": "execute_result"
    }
   ],
   "source": [
    "BT(\"^BANANANA|\")"
   ]
  },
  {
   "cell_type": "code",
   "execution_count": 5,
   "metadata": {
    "scrolled": true
   },
   "outputs": [
    {
     "data": {
      "text/plain": [
       "'BANANA$'"
      ]
     },
     "execution_count": 5,
     "metadata": {},
     "output_type": "execute_result"
    }
   ],
   "source": [
    "inverse_BT(BT('BANANA$'))"
   ]
  },
  {
   "cell_type": "markdown",
   "metadata": {},
   "source": [
    "## Invert the BT-transformed string given in the homework:"
   ]
  },
  {
   "cell_type": "code",
   "execution_count": 6,
   "metadata": {},
   "outputs": [
    {
     "data": {
      "text/plain": [
       "'GATTACACACAGATTACA$'"
      ]
     },
     "execution_count": 6,
     "metadata": {},
     "output_type": "execute_result"
    }
   ],
   "source": [
    "inverse_BT('ACTTCCCGGAAAAA$TTAA')"
   ]
  },
  {
   "cell_type": "code",
   "execution_count": 10,
   "metadata": {},
   "outputs": [],
   "source": [
    "inverse_BT('AABBAB^ABBAABBAA')"
   ]
  },
  {
   "cell_type": "markdown",
   "metadata": {
    "collapsed": true
   },
   "source": [
    "# Counting Human Genome Stuff"
   ]
  },
  {
   "cell_type": "code",
   "execution_count": 7,
   "metadata": {},
   "outputs": [
    {
     "name": "stdout",
     "output_type": "stream",
     "text": [
      "The number of nucleotides in human cDNA sequences is 294306140\n",
      "There are 180869 transcripts in the human transcriptome\n",
      "The largest transcript in human cDNA is ENST00000589042.5\n"
     ]
    }
   ],
   "source": [
    "# I copied-pastad the code from Hwk1 and modified it.\n",
    "letters = 0\n",
    "txs = 0\n",
    "largestN = 0\n",
    "largestT = ''\n",
    "\n",
    "with open(\"../input/human_cdna.fa\", 'r') as handle:\n",
    "    for record in SeqIO.parse(handle, \"fasta\") :\n",
    "        txs += 1\n",
    "        letters += len(record.seq)\n",
    "        if largestN < len(record.seq):\n",
    "            largestN = len(record.seq)\n",
    "            largestT = record.id\n",
    "print(\"The number of nucleotides in human cDNA sequences is {0}\".format(letters))\n",
    "print(\"There are {0} transcripts in the human transcriptome\".format(txs))\n",
    "print('The largest transcript in human cDNA is {0}'.format(largestT))"
   ]
  },
  {
   "cell_type": "code",
   "execution_count": null,
   "metadata": {
    "collapsed": true
   },
   "outputs": [],
   "source": []
  }
 ],
 "metadata": {
  "kernelspec": {
   "display_name": "Python [default]",
   "language": "python",
   "name": "python3"
  },
  "language_info": {
   "codemirror_mode": {
    "name": "ipython",
    "version": 3
   },
   "file_extension": ".py",
   "mimetype": "text/x-python",
   "name": "python",
   "nbconvert_exporter": "python",
   "pygments_lexer": "ipython3",
   "version": "3.5.3"
  },
  "nav_menu": {},
  "toc": {
   "navigate_menu": true,
   "number_sections": true,
   "sideBar": true,
   "threshold": 6,
   "toc_cell": true,
   "toc_section_display": "block",
   "toc_window_display": true
  }
 },
 "nbformat": 4,
 "nbformat_minor": 2
}
